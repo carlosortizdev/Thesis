{
 "cells": [
  {
   "cell_type": "markdown",
   "id": "99aa1575",
   "metadata": {},
   "source": [
    "# Introduction"
   ]
  },
  {
   "cell_type": "markdown",
   "id": "d4fa5ee5",
   "metadata": {},
   "source": []
  },
  {
   "cell_type": "code",
   "execution_count": null,
   "id": "1813722b",
   "metadata": {},
   "outputs": [],
   "source": [
    "import pandas as pd\n",
    "import numpy as np\n",
    "import seaborn as sns\n",
    "import matplotlib.pyplot as plt\n",
    "\n",
    "import rasterio\n",
    "\n",
    "%matplotlib inline"
   ]
  },
  {
   "cell_type": "markdown",
   "id": "70ffe12b",
   "metadata": {},
   "source": [
    "## Data"
   ]
  },
  {
   "cell_type": "code",
   "execution_count": null,
   "id": "d09b4d6d",
   "metadata": {},
   "outputs": [],
   "source": [
    "la_county = pd.read_csv(\"../data/la-county.csv\")"
   ]
  },
  {
   "cell_type": "code",
   "execution_count": null,
   "id": "70012e33",
   "metadata": {},
   "outputs": [],
   "source": [
    "la_cities = list(la_county['City'])"
   ]
  },
  {
   "cell_type": "markdown",
   "id": "80f38a2d",
   "metadata": {},
   "source": [
    "### CalEPA - Demographics + Indicators"
   ]
  },
  {
   "cell_type": "code",
   "execution_count": null,
   "id": "6b2e7ebe",
   "metadata": {},
   "outputs": [],
   "source": [
    "epa_indicators = pd.read_csv(\"../data/CalEPA/indicators.csv\")\n",
    "epa_demographics = pd.read_csv(\"../data/CalEPA/demographics.csv\")"
   ]
  },
  {
   "cell_type": "code",
   "execution_count": null,
   "id": "d22aafa4",
   "metadata": {
    "scrolled": false
   },
   "outputs": [],
   "source": [
    "epa_indicators.head()"
   ]
  },
  {
   "cell_type": "code",
   "execution_count": null,
   "id": "ff064646",
   "metadata": {
    "scrolled": false
   },
   "outputs": [],
   "source": [
    "epa_demographics.head()"
   ]
  },
  {
   "cell_type": "code",
   "execution_count": null,
   "id": "a75331d6",
   "metadata": {
    "scrolled": false
   },
   "outputs": [],
   "source": [
    "la_indicators = epa_indicators[epa_indicators['Approximate Location'].isin(la_cities)]"
   ]
  },
  {
   "cell_type": "code",
   "execution_count": null,
   "id": "ad90a089",
   "metadata": {},
   "outputs": [],
   "source": [
    "la_indicators"
   ]
  },
  {
   "cell_type": "code",
   "execution_count": null,
   "id": "d107cc8d",
   "metadata": {},
   "outputs": [],
   "source": []
  },
  {
   "cell_type": "code",
   "execution_count": null,
   "id": "efa64fef",
   "metadata": {},
   "outputs": [],
   "source": []
  },
  {
   "cell_type": "code",
   "execution_count": null,
   "id": "cfc5140f",
   "metadata": {},
   "outputs": [],
   "source": []
  },
  {
   "cell_type": "markdown",
   "id": "c1bc6c28",
   "metadata": {},
   "source": [
    "### NASA -  SoCAB Land Cover"
   ]
  },
  {
   "cell_type": "code",
   "execution_count": null,
   "id": "f1b1c984",
   "metadata": {},
   "outputs": [],
   "source": [
    "nasa = rasterio.open('../data/NASA/SCLC11-Full.tif')"
   ]
  },
  {
   "cell_type": "code",
   "execution_count": null,
   "id": "994735a4",
   "metadata": {},
   "outputs": [],
   "source": [
    "nasa_array = nasa.read(1)"
   ]
  },
  {
   "cell_type": "code",
   "execution_count": null,
   "id": "e903d31c",
   "metadata": {},
   "outputs": [],
   "source": [
    "pyplot.imshow(nasa_array, cmap='pink')"
   ]
  }
 ],
 "metadata": {
  "kernelspec": {
   "display_name": "Python 3 (ipykernel)",
   "language": "python",
   "name": "python3"
  },
  "language_info": {
   "codemirror_mode": {
    "name": "ipython",
    "version": 3
   },
   "file_extension": ".py",
   "mimetype": "text/x-python",
   "name": "python",
   "nbconvert_exporter": "python",
   "pygments_lexer": "ipython3",
   "version": "3.9.7"
  }
 },
 "nbformat": 4,
 "nbformat_minor": 5
}
