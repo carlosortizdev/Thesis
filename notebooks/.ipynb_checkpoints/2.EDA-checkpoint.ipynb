{
 "cells": [
  {
   "cell_type": "markdown",
   "id": "7226000f",
   "metadata": {},
   "source": [
    "# [EDA] Spatial Contexts for Los Angeles"
   ]
  },
  {
   "cell_type": "markdown",
   "id": "4a81b0a4",
   "metadata": {},
   "source": [
    "Exploratory Data Analysis..."
   ]
  },
  {
   "cell_type": "markdown",
   "id": "dab556aa",
   "metadata": {},
   "source": [
    "## CalEPA Data"
   ]
  },
  {
   "cell_type": "code",
   "execution_count": null,
   "id": "47caeb61",
   "metadata": {},
   "outputs": [],
   "source": []
  },
  {
   "cell_type": "code",
   "execution_count": null,
   "id": "97da4d43",
   "metadata": {},
   "outputs": [],
   "source": []
  },
  {
   "cell_type": "markdown",
   "id": "7be0b863",
   "metadata": {},
   "source": [
    "## NASA SoCAB Land Cover"
   ]
  },
  {
   "cell_type": "code",
   "execution_count": null,
   "id": "e3d72e39",
   "metadata": {},
   "outputs": [],
   "source": []
  },
  {
   "cell_type": "code",
   "execution_count": null,
   "id": "45b43b0f",
   "metadata": {},
   "outputs": [],
   "source": []
  }
 ],
 "metadata": {
  "kernelspec": {
   "display_name": "Python 3 (ipykernel)",
   "language": "python",
   "name": "python3"
  },
  "language_info": {
   "codemirror_mode": {
    "name": "ipython",
    "version": 3
   },
   "file_extension": ".py",
   "mimetype": "text/x-python",
   "name": "python",
   "nbconvert_exporter": "python",
   "pygments_lexer": "ipython3",
   "version": "3.9.7"
  }
 },
 "nbformat": 4,
 "nbformat_minor": 5
}
