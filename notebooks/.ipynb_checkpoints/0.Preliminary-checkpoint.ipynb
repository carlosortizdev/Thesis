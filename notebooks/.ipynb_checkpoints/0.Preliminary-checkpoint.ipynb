{
 "cells": [
  {
   "cell_type": "markdown",
   "id": "99aa1575",
   "metadata": {},
   "source": [
    "# Preliminary"
   ]
  },
  {
   "cell_type": "code",
   "execution_count": 2,
   "id": "1813722b",
   "metadata": {},
   "outputs": [],
   "source": [
    "import pandas as pd\n",
    "import numpy as np\n",
    "import statsmodels\n",
    "import seaborn as sns\n",
    "import matplotlib.pyplot as plt\n",
    "\n",
    "%matplotlib inline"
   ]
  },
  {
   "cell_type": "markdown",
   "id": "70ffe12b",
   "metadata": {},
   "source": [
    "## Data"
   ]
  },
  {
   "cell_type": "code",
   "execution_count": 3,
   "id": "d09b4d6d",
   "metadata": {},
   "outputs": [],
   "source": [
    "la_county = pd.read_csv(\"../data/la-county.csv\")\n",
    "la_county = list(la_county['City'])"
   ]
  },
  {
   "cell_type": "markdown",
   "id": "80f38a2d",
   "metadata": {},
   "source": [
    "### CalEPA - Demographics + Indicators"
   ]
  },
  {
   "cell_type": "code",
   "execution_count": 4,
   "id": "6b2e7ebe",
   "metadata": {},
   "outputs": [],
   "source": [
    "epa_indicators = pd.read_csv(\"../data/CalEPA/indicators.csv\")\n",
    "epa_demographics = pd.read_csv(\"../data/CalEPA/demographics.csv\")"
   ]
  },
  {
   "cell_type": "markdown",
   "id": "6e873078",
   "metadata": {},
   "source": [
    "Remove duplicate columns between indicators and demographics"
   ]
  },
  {
   "cell_type": "code",
   "execution_count": 5,
   "id": "80ffaa67",
   "metadata": {},
   "outputs": [],
   "source": [
    "duplicates = ['Total Population', 'California County', 'CES 4.0 Score', 'CES 4.0 Percentile Range']"
   ]
  },
  {
   "cell_type": "code",
   "execution_count": 6,
   "id": "f4c8db24",
   "metadata": {},
   "outputs": [],
   "source": [
    "epa_demographics = epa_demographics.drop(duplicates, axis=1)"
   ]
  },
  {
   "cell_type": "markdown",
   "id": "cd5b7c76",
   "metadata": {},
   "source": [
    "Take LA county cities"
   ]
  },
  {
   "cell_type": "code",
   "execution_count": 7,
   "id": "a75331d6",
   "metadata": {
    "scrolled": false
   },
   "outputs": [],
   "source": [
    "la_indicators = epa_indicators[epa_indicators['Approximate Location'].isin(la_county)]"
   ]
  },
  {
   "cell_type": "code",
   "execution_count": 8,
   "id": "9aedc5ee",
   "metadata": {},
   "outputs": [],
   "source": [
    "la_county_df = la_indicators.merge(epa_demographics, on='Census Tract', how='inner')"
   ]
  },
  {
   "cell_type": "code",
   "execution_count": 9,
   "id": "d4d31b6b",
   "metadata": {
    "scrolled": true
   },
   "outputs": [],
   "source": [
    "la_county_df = la_county_df.drop([' CES 4.0 Percentile'], axis=1)"
   ]
  },
  {
   "cell_type": "markdown",
   "id": "29178456",
   "metadata": {},
   "source": [
    "Available features:"
   ]
  },
  {
   "cell_type": "code",
   "execution_count": 10,
   "id": "247816d1",
   "metadata": {},
   "outputs": [
    {
     "data": {
      "text/plain": [
       "Index(['Census Tract', 'Total Population', 'California County', 'ZIP',\n",
       "       'Approximate Location', 'Longitude', 'Latitude', 'CES 4.0 Score',\n",
       "       ' CES 4.0 Percentile', 'CES 4.0 Percentile Range', 'Ozone',\n",
       "       'Ozone Pctl', 'PM2.5', 'PM2.5 Pctl', 'Diesel PM', 'Diesel PM Pctl',\n",
       "       'Drinking Water', 'Drinking Water Pctl', 'Lead', 'Lead Pctl',\n",
       "       'Pesticides', 'Pesticides Pctl', 'Tox. Release', 'Tox. Release Pctl',\n",
       "       'Traffic', 'Traffic Pctl', 'Cleanup Sites', 'Cleanup Sites Pctl',\n",
       "       'Groundwater Threats', 'Groundwater Threats Pctl', 'Haz. Waste',\n",
       "       'Haz. Waste Pctl', 'Imp. Water Bodies', 'Imp. Water Bodies Pctl',\n",
       "       'Solid Waste', 'Solid Waste Pctl', 'Pollution Burden',\n",
       "       'Pollution Burden Score', 'Pollution Burden Pctl', 'Asthma',\n",
       "       'Asthma Pctl', 'Low Birth Weight', 'Low Birth Weight Pctl',\n",
       "       'Cardiovascular Disease', 'Cardiovascular Disease Pctl', 'Education',\n",
       "       'Education Pctl', 'Linguistic Isolation', 'Linguistic Isolation Pctl',\n",
       "       'Poverty', 'Poverty Pctl', 'Unemployment', 'Unemployment Pctl',\n",
       "       'Housing Burden', 'Housing Burden Pctl', 'Pop. Char. ',\n",
       "       'Pop. Char. Score', 'Pop. Char. Pctl', 'CES 4.0 Percentile',\n",
       "       'Children < 10 years (%)', 'Pop 10-64 years (%)',\n",
       "       'Elderly > 64 years (%)', 'Hispanic (%)', 'White (%)',\n",
       "       'African American (%)', 'Native American (%)', 'Asian American (%)',\n",
       "       'Other/Multiple (%)'],\n",
       "      dtype='object')"
      ]
     },
     "execution_count": 10,
     "metadata": {},
     "output_type": "execute_result"
    }
   ],
   "source": [
    "la_county_df.columns"
   ]
  },
  {
   "cell_type": "code",
   "execution_count": 11,
   "id": "d107cc8d",
   "metadata": {
    "scrolled": true
   },
   "outputs": [
    {
     "data": {
      "text/plain": [
       "array(['95-100% (highest scores)', '90-95%', '85-90%', '80-85%', '75-80%',\n",
       "       '70-75%', '65-70%', '60-65%', '55-60%', '50-55%', '45-50%',\n",
       "       '40-45%', '35-40%', '30-35%', '25-30%', '20-25%', '15-20%',\n",
       "       '10-15%', '5-10%', '1-5% (lowest scores)', nan], dtype=object)"
      ]
     },
     "execution_count": 11,
     "metadata": {},
     "output_type": "execute_result"
    }
   ],
   "source": [
    "la_county_df[\"CES 4.0 Percentile Range\"].unique()"
   ]
  },
  {
   "cell_type": "markdown",
   "id": "c8093bed",
   "metadata": {},
   "source": [
    "## Intitial Distributions"
   ]
  },
  {
   "cell_type": "markdown",
   "id": "33c9e51f",
   "metadata": {},
   "source": [
    "Let's take a look at some initiatial distributions before subseting the data further."
   ]
  },
  {
   "cell_type": "code",
   "execution_count": 12,
   "id": "574abe02",
   "metadata": {},
   "outputs": [
    {
     "data": {
      "text/plain": [
       "<AxesSubplot:xlabel='Pollution Burden', ylabel='Density'>"
      ]
     },
     "execution_count": 12,
     "metadata": {},
     "output_type": "execute_result"
    },
    {
     "data": {
      "image/png": "[encoded data removed]",
      "text/plain": [
       "<Figure size 432x288 with 1 Axes>"
      ]
     },
     "metadata": {
      "needs_background": "light"
     },
     "output_type": "display_data"
    }
   ],
   "source": [
    "sns.histplot(la_county_df, x='Pollution Burden', stat='density')"
   ]
  },
  {
   "cell_type": "code",
   "execution_count": 13,
   "id": "c7aa677d",
   "metadata": {},
   "outputs": [
    {
     "data": {
      "text/plain": [
       "<AxesSubplot:xlabel='Traffic', ylabel='Density'>"
      ]
     },
     "execution_count": 13,
     "metadata": {},
     "output_type": "execute_result"
    },
    {
     "data": {
      "image/png": "[encoded data removed]",
      "text/plain": [
       "<Figure size 432x288 with 1 Axes>"
      ]
     },
     "metadata": {
      "needs_background": "light"
     },
     "output_type": "display_data"
    }
   ],
   "source": [
    "sns.histplot(la_county_df, x='Traffic', stat='density')"
   ]
  },
  {
   "cell_type": "markdown",
   "id": "341245c4",
   "metadata": {},
   "source": [
    "## Subset Distribtuions"
   ]
  },
  {
   "cell_type": "markdown",
   "id": "1a7eaefb",
   "metadata": {},
   "source": [
    "Now let's take a look at the distributions for the data with a CES 4.0 score above 95%."
   ]
  },
  {
   "cell_type": "code",
   "execution_count": 14,
   "id": "efa64fef",
   "metadata": {},
   "outputs": [],
   "source": [
    "highest_95_100 = la_county_df[la_county_df['CES 4.0 Percentile Range'] == '95-100% (highest scores)']"
   ]
  },
  {
   "cell_type": "markdown",
   "id": "6f2254d0",
   "metadata": {},
   "source": [
    "Let's take a look at the highest percentile range for the CES 4.0 score: 95-100%"
   ]
  },
  {
   "cell_type": "code",
   "execution_count": 15,
   "id": "cfc5140f",
   "metadata": {
    "scrolled": true
   },
   "outputs": [
    {
     "data": {
      "text/html": [
       "<div>\n",
       "<style scoped>\n",
       "    .dataframe tbody tr th:only-of-type {\n",
       "        vertical-align: middle;\n",
       "    }\n",
       "\n",
       "    .dataframe tbody tr th {\n",
       "        vertical-align: top;\n",
       "    }\n",
       "\n",
       "    .dataframe thead th {\n",
       "        text-align: right;\n",
       "    }\n",
       "</style>\n",
       "<table border=\"1\" class=\"dataframe\">\n",
       "  <thead>\n",
       "    <tr style=\"text-align: right;\">\n",
       "      <th></th>\n",
       "      <th>Census Tract</th>\n",
       "      <th>Total Population</th>\n",
       "      <th>California County</th>\n",
       "      <th>ZIP</th>\n",
       "      <th>Approximate Location</th>\n",
       "      <th>Longitude</th>\n",
       "      <th>Latitude</th>\n",
       "      <th>CES 4.0 Score</th>\n",
       "      <th>CES 4.0 Percentile</th>\n",
       "      <th>CES 4.0 Percentile Range</th>\n",
       "      <th>...</th>\n",
       "      <th>CES 4.0 Percentile</th>\n",
       "      <th>Children &lt; 10 years (%)</th>\n",
       "      <th>Pop 10-64 years (%)</th>\n",
       "      <th>Elderly &gt; 64 years (%)</th>\n",
       "      <th>Hispanic (%)</th>\n",
       "      <th>White (%)</th>\n",
       "      <th>African American (%)</th>\n",
       "      <th>Native American (%)</th>\n",
       "      <th>Asian American (%)</th>\n",
       "      <th>Other/Multiple (%)</th>\n",
       "    </tr>\n",
       "  </thead>\n",
       "  <tbody>\n",
       "    <tr>\n",
       "      <th>0</th>\n",
       "      <td>6037204920</td>\n",
       "      <td>2751</td>\n",
       "      <td>Los Angeles</td>\n",
       "      <td>90023</td>\n",
       "      <td>Los Angeles</td>\n",
       "      <td>-118.197497</td>\n",
       "      <td>34.017500</td>\n",
       "      <td>82.39</td>\n",
       "      <td>99.97</td>\n",
       "      <td>95-100% (highest scores)</td>\n",
       "      <td>...</td>\n",
       "      <td>99.97</td>\n",
       "      <td>13.34</td>\n",
       "      <td>72.59</td>\n",
       "      <td>14.07</td>\n",
       "      <td>97.27</td>\n",
       "      <td>1.71</td>\n",
       "      <td>0.84</td>\n",
       "      <td>0.0</td>\n",
       "      <td>0.00</td>\n",
       "      <td>0.18</td>\n",
       "    </tr>\n",
       "    <tr>\n",
       "      <th>1</th>\n",
       "      <td>6037542402</td>\n",
       "      <td>3306</td>\n",
       "      <td>Los Angeles</td>\n",
       "      <td>90221</td>\n",
       "      <td>Compton</td>\n",
       "      <td>-118.212413</td>\n",
       "      <td>33.881969</td>\n",
       "      <td>80.71</td>\n",
       "      <td>99.94</td>\n",
       "      <td>95-100% (highest scores)</td>\n",
       "      <td>...</td>\n",
       "      <td>99.94</td>\n",
       "      <td>11.34</td>\n",
       "      <td>77.53</td>\n",
       "      <td>11.13</td>\n",
       "      <td>65.34</td>\n",
       "      <td>0.54</td>\n",
       "      <td>33.55</td>\n",
       "      <td>0.0</td>\n",
       "      <td>0.57</td>\n",
       "      <td>0.00</td>\n",
       "    </tr>\n",
       "    <tr>\n",
       "      <th>2</th>\n",
       "      <td>6037543202</td>\n",
       "      <td>5124</td>\n",
       "      <td>Los Angeles</td>\n",
       "      <td>90220</td>\n",
       "      <td>Compton</td>\n",
       "      <td>-118.230032</td>\n",
       "      <td>33.879862</td>\n",
       "      <td>79.29</td>\n",
       "      <td>99.91</td>\n",
       "      <td>95-100% (highest scores)</td>\n",
       "      <td>...</td>\n",
       "      <td>99.91</td>\n",
       "      <td>18.60</td>\n",
       "      <td>72.48</td>\n",
       "      <td>8.92</td>\n",
       "      <td>78.14</td>\n",
       "      <td>1.09</td>\n",
       "      <td>15.67</td>\n",
       "      <td>0.0</td>\n",
       "      <td>4.84</td>\n",
       "      <td>0.25</td>\n",
       "    </tr>\n",
       "    <tr>\n",
       "      <th>3</th>\n",
       "      <td>6037203300</td>\n",
       "      <td>2000</td>\n",
       "      <td>Los Angeles</td>\n",
       "      <td>90033</td>\n",
       "      <td>Los Angeles</td>\n",
       "      <td>-118.207788</td>\n",
       "      <td>34.058872</td>\n",
       "      <td>77.35</td>\n",
       "      <td>99.87</td>\n",
       "      <td>95-100% (highest scores)</td>\n",
       "      <td>...</td>\n",
       "      <td>99.87</td>\n",
       "      <td>7.70</td>\n",
       "      <td>84.50</td>\n",
       "      <td>7.80</td>\n",
       "      <td>75.55</td>\n",
       "      <td>2.85</td>\n",
       "      <td>10.45</td>\n",
       "      <td>0.0</td>\n",
       "      <td>6.95</td>\n",
       "      <td>4.20</td>\n",
       "    </tr>\n",
       "    <tr>\n",
       "      <th>4</th>\n",
       "      <td>6037291220</td>\n",
       "      <td>3640</td>\n",
       "      <td>Los Angeles</td>\n",
       "      <td>90247</td>\n",
       "      <td>Los Angeles</td>\n",
       "      <td>-118.286709</td>\n",
       "      <td>33.877139</td>\n",
       "      <td>77.25</td>\n",
       "      <td>99.86</td>\n",
       "      <td>95-100% (highest scores)</td>\n",
       "      <td>...</td>\n",
       "      <td>99.86</td>\n",
       "      <td>12.77</td>\n",
       "      <td>73.16</td>\n",
       "      <td>14.07</td>\n",
       "      <td>69.34</td>\n",
       "      <td>3.98</td>\n",
       "      <td>8.43</td>\n",
       "      <td>0.0</td>\n",
       "      <td>16.32</td>\n",
       "      <td>1.92</td>\n",
       "    </tr>\n",
       "    <tr>\n",
       "      <th>...</th>\n",
       "      <td>...</td>\n",
       "      <td>...</td>\n",
       "      <td>...</td>\n",
       "      <td>...</td>\n",
       "      <td>...</td>\n",
       "      <td>...</td>\n",
       "      <td>...</td>\n",
       "      <td>...</td>\n",
       "      <td>...</td>\n",
       "      <td>...</td>\n",
       "      <td>...</td>\n",
       "      <td>...</td>\n",
       "      <td>...</td>\n",
       "      <td>...</td>\n",
       "      <td>...</td>\n",
       "      <td>...</td>\n",
       "      <td>...</td>\n",
       "      <td>...</td>\n",
       "      <td>...</td>\n",
       "      <td>...</td>\n",
       "      <td>...</td>\n",
       "    </tr>\n",
       "    <tr>\n",
       "      <th>240</th>\n",
       "      <td>6037104822</td>\n",
       "      <td>2839</td>\n",
       "      <td>Los Angeles</td>\n",
       "      <td>91331</td>\n",
       "      <td>Los Angeles</td>\n",
       "      <td>-118.420924</td>\n",
       "      <td>34.245834</td>\n",
       "      <td>58.96</td>\n",
       "      <td>95.08</td>\n",
       "      <td>95-100% (highest scores)</td>\n",
       "      <td>...</td>\n",
       "      <td>95.08</td>\n",
       "      <td>16.10</td>\n",
       "      <td>75.31</td>\n",
       "      <td>8.59</td>\n",
       "      <td>90.63</td>\n",
       "      <td>2.40</td>\n",
       "      <td>1.23</td>\n",
       "      <td>0.0</td>\n",
       "      <td>5.00</td>\n",
       "      <td>0.74</td>\n",
       "    </tr>\n",
       "    <tr>\n",
       "      <th>241</th>\n",
       "      <td>6037104403</td>\n",
       "      <td>3341</td>\n",
       "      <td>Los Angeles</td>\n",
       "      <td>91331</td>\n",
       "      <td>Los Angeles</td>\n",
       "      <td>-118.434485</td>\n",
       "      <td>34.258774</td>\n",
       "      <td>58.90</td>\n",
       "      <td>95.06</td>\n",
       "      <td>95-100% (highest scores)</td>\n",
       "      <td>...</td>\n",
       "      <td>95.06</td>\n",
       "      <td>11.40</td>\n",
       "      <td>75.46</td>\n",
       "      <td>13.14</td>\n",
       "      <td>95.51</td>\n",
       "      <td>0.45</td>\n",
       "      <td>0.00</td>\n",
       "      <td>0.0</td>\n",
       "      <td>4.04</td>\n",
       "      <td>0.00</td>\n",
       "    </tr>\n",
       "    <tr>\n",
       "      <th>242</th>\n",
       "      <td>6037433401</td>\n",
       "      <td>3405</td>\n",
       "      <td>Los Angeles</td>\n",
       "      <td>91733</td>\n",
       "      <td>El Monte</td>\n",
       "      <td>-118.042612</td>\n",
       "      <td>34.059602</td>\n",
       "      <td>58.86</td>\n",
       "      <td>95.03</td>\n",
       "      <td>95-100% (highest scores)</td>\n",
       "      <td>...</td>\n",
       "      <td>95.03</td>\n",
       "      <td>11.54</td>\n",
       "      <td>78.27</td>\n",
       "      <td>10.19</td>\n",
       "      <td>69.81</td>\n",
       "      <td>2.26</td>\n",
       "      <td>0.35</td>\n",
       "      <td>0.0</td>\n",
       "      <td>27.20</td>\n",
       "      <td>0.38</td>\n",
       "    </tr>\n",
       "    <tr>\n",
       "      <th>243</th>\n",
       "      <td>6037294820</td>\n",
       "      <td>3473</td>\n",
       "      <td>Los Angeles</td>\n",
       "      <td>90744</td>\n",
       "      <td>Los Angeles</td>\n",
       "      <td>-118.265626</td>\n",
       "      <td>33.779782</td>\n",
       "      <td>58.86</td>\n",
       "      <td>95.02</td>\n",
       "      <td>95-100% (highest scores)</td>\n",
       "      <td>...</td>\n",
       "      <td>95.02</td>\n",
       "      <td>20.79</td>\n",
       "      <td>72.79</td>\n",
       "      <td>6.42</td>\n",
       "      <td>96.69</td>\n",
       "      <td>0.75</td>\n",
       "      <td>0.89</td>\n",
       "      <td>0.0</td>\n",
       "      <td>1.67</td>\n",
       "      <td>0.00</td>\n",
       "    </tr>\n",
       "    <tr>\n",
       "      <th>244</th>\n",
       "      <td>6037553601</td>\n",
       "      <td>4699</td>\n",
       "      <td>Los Angeles</td>\n",
       "      <td>90723</td>\n",
       "      <td>Paramount</td>\n",
       "      <td>-118.169223</td>\n",
       "      <td>33.904663</td>\n",
       "      <td>58.81</td>\n",
       "      <td>95.01</td>\n",
       "      <td>95-100% (highest scores)</td>\n",
       "      <td>...</td>\n",
       "      <td>95.01</td>\n",
       "      <td>11.83</td>\n",
       "      <td>78.83</td>\n",
       "      <td>9.34</td>\n",
       "      <td>85.74</td>\n",
       "      <td>3.81</td>\n",
       "      <td>4.94</td>\n",
       "      <td>0.0</td>\n",
       "      <td>4.81</td>\n",
       "      <td>0.70</td>\n",
       "    </tr>\n",
       "  </tbody>\n",
       "</table>\n",
       "<p>245 rows × 68 columns</p>\n",
       "</div>"
      ],
      "text/plain": [
       "     Census Tract  Total Population California County    ZIP  \\\n",
       "0      6037204920              2751       Los Angeles  90023   \n",
       "1      6037542402              3306       Los Angeles  90221   \n",
       "2      6037543202              5124       Los Angeles  90220   \n",
       "3      6037203300              2000       Los Angeles  90033   \n",
       "4      6037291220              3640       Los Angeles  90247   \n",
       "..            ...               ...               ...    ...   \n",
       "240    6037104822              2839       Los Angeles  91331   \n",
       "241    6037104403              3341       Los Angeles  91331   \n",
       "242    6037433401              3405       Los Angeles  91733   \n",
       "243    6037294820              3473       Los Angeles  90744   \n",
       "244    6037553601              4699       Los Angeles  90723   \n",
       "\n",
       "    Approximate Location   Longitude   Latitude  CES 4.0 Score  \\\n",
       "0            Los Angeles -118.197497  34.017500          82.39   \n",
       "1                Compton -118.212413  33.881969          80.71   \n",
       "2                Compton -118.230032  33.879862          79.29   \n",
       "3            Los Angeles -118.207788  34.058872          77.35   \n",
       "4            Los Angeles -118.286709  33.877139          77.25   \n",
       "..                   ...         ...        ...            ...   \n",
       "240          Los Angeles -118.420924  34.245834          58.96   \n",
       "241          Los Angeles -118.434485  34.258774          58.90   \n",
       "242             El Monte -118.042612  34.059602          58.86   \n",
       "243          Los Angeles -118.265626  33.779782          58.86   \n",
       "244            Paramount -118.169223  33.904663          58.81   \n",
       "\n",
       "      CES 4.0 Percentile  CES 4.0 Percentile Range  ...  CES 4.0 Percentile  \\\n",
       "0                  99.97  95-100% (highest scores)  ...               99.97   \n",
       "1                  99.94  95-100% (highest scores)  ...               99.94   \n",
       "2                  99.91  95-100% (highest scores)  ...               99.91   \n",
       "3                  99.87  95-100% (highest scores)  ...               99.87   \n",
       "4                  99.86  95-100% (highest scores)  ...               99.86   \n",
       "..                   ...                       ...  ...                 ...   \n",
       "240                95.08  95-100% (highest scores)  ...               95.08   \n",
       "241                95.06  95-100% (highest scores)  ...               95.06   \n",
       "242                95.03  95-100% (highest scores)  ...               95.03   \n",
       "243                95.02  95-100% (highest scores)  ...               95.02   \n",
       "244                95.01  95-100% (highest scores)  ...               95.01   \n",
       "\n",
       "     Children < 10 years (%)  Pop 10-64 years (%)  Elderly > 64 years (%)  \\\n",
       "0                      13.34                72.59                   14.07   \n",
       "1                      11.34                77.53                   11.13   \n",
       "2                      18.60                72.48                    8.92   \n",
       "3                       7.70                84.50                    7.80   \n",
       "4                      12.77                73.16                   14.07   \n",
       "..                       ...                  ...                     ...   \n",
       "240                    16.10                75.31                    8.59   \n",
       "241                    11.40                75.46                   13.14   \n",
       "242                    11.54                78.27                   10.19   \n",
       "243                    20.79                72.79                    6.42   \n",
       "244                    11.83                78.83                    9.34   \n",
       "\n",
       "     Hispanic (%)  White (%)  African American (%)  Native American (%)  \\\n",
       "0           97.27       1.71                  0.84                  0.0   \n",
       "1           65.34       0.54                 33.55                  0.0   \n",
       "2           78.14       1.09                 15.67                  0.0   \n",
       "3           75.55       2.85                 10.45                  0.0   \n",
       "4           69.34       3.98                  8.43                  0.0   \n",
       "..            ...        ...                   ...                  ...   \n",
       "240         90.63       2.40                  1.23                  0.0   \n",
       "241         95.51       0.45                  0.00                  0.0   \n",
       "242         69.81       2.26                  0.35                  0.0   \n",
       "243         96.69       0.75                  0.89                  0.0   \n",
       "244         85.74       3.81                  4.94                  0.0   \n",
       "\n",
       "     Asian American (%)  Other/Multiple (%)  \n",
       "0                  0.00                0.18  \n",
       "1                  0.57                0.00  \n",
       "2                  4.84                0.25  \n",
       "3                  6.95                4.20  \n",
       "4                 16.32                1.92  \n",
       "..                  ...                 ...  \n",
       "240                5.00                0.74  \n",
       "241                4.04                0.00  \n",
       "242               27.20                0.38  \n",
       "243                1.67                0.00  \n",
       "244                4.81                0.70  \n",
       "\n",
       "[245 rows x 68 columns]"
      ]
     },
     "execution_count": 15,
     "metadata": {},
     "output_type": "execute_result"
    }
   ],
   "source": [
    "highest_95_100"
   ]
  },
  {
   "cell_type": "code",
   "execution_count": 16,
   "id": "1eb6fd28",
   "metadata": {
    "scrolled": true
   },
   "outputs": [
    {
     "data": {
      "text/plain": [
       "<AxesSubplot:xlabel='Pollution Burden', ylabel='Density'>"
      ]
     },
     "execution_count": 16,
     "metadata": {},
     "output_type": "execute_result"
    },
    {
     "data": {
      "image/png": "[encoded data removed]",
      "text/plain": [
       "<Figure size 432x288 with 1 Axes>"
      ]
     },
     "metadata": {
      "needs_background": "light"
     },
     "output_type": "display_data"
    }
   ],
   "source": [
    "sns.histplot(highest_95_100, x='Pollution Burden', stat='density')"
   ]
  },
  {
   "cell_type": "code",
   "execution_count": 17,
   "id": "76b0ed00",
   "metadata": {},
   "outputs": [
    {
     "data": {
      "text/plain": [
       "<AxesSubplot:xlabel='Traffic', ylabel='Density'>"
      ]
     },
     "execution_count": 17,
     "metadata": {},
     "output_type": "execute_result"
    },
    {
     "data": {
      "image/png": "[encoded data removed]",
      "text/plain": [
       "<Figure size 432x288 with 1 Axes>"
      ]
     },
     "metadata": {
      "needs_background": "light"
     },
     "output_type": "display_data"
    }
   ],
   "source": [
    "sns.histplot(highest_95_100, x='Traffic', stat='density')"
   ]
  },
  {
   "cell_type": "markdown",
   "id": "c1bc6c28",
   "metadata": {},
   "source": [
    "### NASA -  SoCAB Land Cover"
   ]
  },
  {
   "cell_type": "code",
   "execution_count": null,
   "id": "34bf6a15",
   "metadata": {},
   "outputs": [],
   "source": []
  },
  {
   "cell_type": "code",
   "execution_count": null,
   "id": "d7ecd20c",
   "metadata": {},
   "outputs": [],
   "source": []
  },
  {
   "cell_type": "code",
   "execution_count": null,
   "id": "d40abc90",
   "metadata": {},
   "outputs": [],
   "source": []
  }
 ],
 "metadata": {
  "kernelspec": {
   "display_name": "Python 3 (ipykernel)",
   "language": "python",
   "name": "python3"
  },
  "language_info": {
   "codemirror_mode": {
    "name": "ipython",
    "version": 3
   },
   "file_extension": ".py",
   "mimetype": "text/x-python",
   "name": "python",
   "nbconvert_exporter": "python",
   "pygments_lexer": "ipython3",
   "version": "3.9.7"
  }
 },
 "nbformat": 4,
 "nbformat_minor": 5
}
