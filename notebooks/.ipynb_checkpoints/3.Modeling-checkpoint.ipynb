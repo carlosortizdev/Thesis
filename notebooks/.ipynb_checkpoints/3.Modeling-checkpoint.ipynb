{
 "cells": [
  {
   "cell_type": "markdown",
   "id": "f9e30971",
   "metadata": {},
   "source": [
    "# [Modeling] Spatial Contexts for Los Angeles"
   ]
  },
  {
   "cell_type": "code",
   "execution_count": null,
   "id": "fc6b1dd0",
   "metadata": {},
   "outputs": [],
   "source": []
  },
  {
   "cell_type": "code",
   "execution_count": null,
   "id": "83210c36",
   "metadata": {},
   "outputs": [],
   "source": []
  }
 ],
 "metadata": {
  "kernelspec": {
   "display_name": "Python 3 (ipykernel)",
   "language": "python",
   "name": "python3"
  },
  "language_info": {
   "codemirror_mode": {
    "name": "ipython",
    "version": 3
   },
   "file_extension": ".py",
   "mimetype": "text/x-python",
   "name": "python",
   "nbconvert_exporter": "python",
   "pygments_lexer": "ipython3",
   "version": "3.9.7"
  }
 },
 "nbformat": 4,
 "nbformat_minor": 5
}
