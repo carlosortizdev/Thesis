{
 "cells": [
  {
   "cell_type": "markdown",
   "id": "20473866",
   "metadata": {},
   "source": [
    "# [Introduction] Spatial Contexts for Los Angeles"
   ]
  },
  {
   "cell_type": "markdown",
   "id": "cdbf139b",
   "metadata": {},
   "source": [
    "This notebook sets up a framework for modeling spatial contexts, starting with understanding the data as well as the human contexts.\n",
    "\n",
    "There are three main ways in which spatial contexts play an important role in health: it contextualizes the built and social environment, environmental exposure, and access to health services for communities. I will draw predictions and inference across each of these components through a lens of land cover."
   ]
  },
  {
   "cell_type": "markdown",
   "id": "fd61e11d",
   "metadata": {},
   "source": [
    "## CalEPA Data"
   ]
  },
  {
   "cell_type": "markdown",
   "id": "9dda4598",
   "metadata": {},
   "source": [
    "The following data was compiled from the California Environmental Protection Agency (CalEPA) Cal Enviro Screen (CES) indicator and demographic data, focusing on LA County, California."
   ]
  },
  {
   "cell_type": "code",
   "execution_count": 18,
   "id": "c805f1e0",
   "metadata": {},
   "outputs": [],
   "source": [
    "import pandas as pd\n",
    "import geopandas as gpd\n",
    "import numpy as np\n",
    "import statsmodels\n",
    "import seaborn as sns\n",
    "import matplotlib.pyplot as plt\n",
    "import folium\n",
    "from folium.plugins import MarkerCluster\n",
    "\n",
    "%matplotlib inline\n",
    "plt.style.use('fivethirtyeight')"
   ]
  },
  {
   "cell_type": "code",
   "execution_count": 19,
   "id": "1c4a268f",
   "metadata": {},
   "outputs": [],
   "source": [
    "df = pd.read_csv(\"../data/CalEPA/ces_losangeles.csv\", index_col=0)"
   ]
  },
  {
   "cell_type": "code",
   "execution_count": 20,
   "id": "6393e20c",
   "metadata": {
    "scrolled": true
   },
   "outputs": [
    {
     "data": {
      "text/html": [
       "<div>\n",
       "<style scoped>\n",
       "    .dataframe tbody tr th:only-of-type {\n",
       "        vertical-align: middle;\n",
       "    }\n",
       "\n",
       "    .dataframe tbody tr th {\n",
       "        vertical-align: top;\n",
       "    }\n",
       "\n",
       "    .dataframe thead th {\n",
       "        text-align: right;\n",
       "    }\n",
       "</style>\n",
       "<table border=\"1\" class=\"dataframe\">\n",
       "  <thead>\n",
       "    <tr style=\"text-align: right;\">\n",
       "      <th></th>\n",
       "      <th>Census Tract</th>\n",
       "      <th>Total Population</th>\n",
       "      <th>California County</th>\n",
       "      <th>ZIP</th>\n",
       "      <th>Approximate Location</th>\n",
       "      <th>Longitude</th>\n",
       "      <th>Latitude</th>\n",
       "      <th>CES 4.0 Score</th>\n",
       "      <th>CES 4.0 Percentile Range</th>\n",
       "      <th>Ozone</th>\n",
       "      <th>...</th>\n",
       "      <th>CES 4.0 Percentile</th>\n",
       "      <th>Children &lt; 10 years (%)</th>\n",
       "      <th>Pop 10-64 years (%)</th>\n",
       "      <th>Elderly &gt; 64 years (%)</th>\n",
       "      <th>Hispanic (%)</th>\n",
       "      <th>White (%)</th>\n",
       "      <th>African American (%)</th>\n",
       "      <th>Native American (%)</th>\n",
       "      <th>Asian American (%)</th>\n",
       "      <th>Other/Multiple (%)</th>\n",
       "    </tr>\n",
       "  </thead>\n",
       "  <tbody>\n",
       "    <tr>\n",
       "      <th>0</th>\n",
       "      <td>6037204920</td>\n",
       "      <td>2751</td>\n",
       "      <td>Los Angeles</td>\n",
       "      <td>90023</td>\n",
       "      <td>Los Angeles</td>\n",
       "      <td>-118.197497</td>\n",
       "      <td>34.017500</td>\n",
       "      <td>82.39</td>\n",
       "      <td>95-100% (highest scores)</td>\n",
       "      <td>0.048</td>\n",
       "      <td>...</td>\n",
       "      <td>99.97</td>\n",
       "      <td>13.34</td>\n",
       "      <td>72.59</td>\n",
       "      <td>14.07</td>\n",
       "      <td>97.27</td>\n",
       "      <td>1.71</td>\n",
       "      <td>0.84</td>\n",
       "      <td>0.0</td>\n",
       "      <td>0.00</td>\n",
       "      <td>0.18</td>\n",
       "    </tr>\n",
       "    <tr>\n",
       "      <th>1</th>\n",
       "      <td>6037542402</td>\n",
       "      <td>3306</td>\n",
       "      <td>Los Angeles</td>\n",
       "      <td>90221</td>\n",
       "      <td>Compton</td>\n",
       "      <td>-118.212413</td>\n",
       "      <td>33.881969</td>\n",
       "      <td>80.71</td>\n",
       "      <td>95-100% (highest scores)</td>\n",
       "      <td>0.043</td>\n",
       "      <td>...</td>\n",
       "      <td>99.94</td>\n",
       "      <td>11.34</td>\n",
       "      <td>77.53</td>\n",
       "      <td>11.13</td>\n",
       "      <td>65.34</td>\n",
       "      <td>0.54</td>\n",
       "      <td>33.55</td>\n",
       "      <td>0.0</td>\n",
       "      <td>0.57</td>\n",
       "      <td>0.00</td>\n",
       "    </tr>\n",
       "    <tr>\n",
       "      <th>2</th>\n",
       "      <td>6037543202</td>\n",
       "      <td>5124</td>\n",
       "      <td>Los Angeles</td>\n",
       "      <td>90220</td>\n",
       "      <td>Compton</td>\n",
       "      <td>-118.230032</td>\n",
       "      <td>33.879862</td>\n",
       "      <td>79.29</td>\n",
       "      <td>95-100% (highest scores)</td>\n",
       "      <td>0.042</td>\n",
       "      <td>...</td>\n",
       "      <td>99.91</td>\n",
       "      <td>18.60</td>\n",
       "      <td>72.48</td>\n",
       "      <td>8.92</td>\n",
       "      <td>78.14</td>\n",
       "      <td>1.09</td>\n",
       "      <td>15.67</td>\n",
       "      <td>0.0</td>\n",
       "      <td>4.84</td>\n",
       "      <td>0.25</td>\n",
       "    </tr>\n",
       "    <tr>\n",
       "      <th>3</th>\n",
       "      <td>6037203300</td>\n",
       "      <td>2000</td>\n",
       "      <td>Los Angeles</td>\n",
       "      <td>90033</td>\n",
       "      <td>Los Angeles</td>\n",
       "      <td>-118.207788</td>\n",
       "      <td>34.058872</td>\n",
       "      <td>77.35</td>\n",
       "      <td>95-100% (highest scores)</td>\n",
       "      <td>0.049</td>\n",
       "      <td>...</td>\n",
       "      <td>99.87</td>\n",
       "      <td>7.70</td>\n",
       "      <td>84.50</td>\n",
       "      <td>7.80</td>\n",
       "      <td>75.55</td>\n",
       "      <td>2.85</td>\n",
       "      <td>10.45</td>\n",
       "      <td>0.0</td>\n",
       "      <td>6.95</td>\n",
       "      <td>4.20</td>\n",
       "    </tr>\n",
       "    <tr>\n",
       "      <th>4</th>\n",
       "      <td>6037291220</td>\n",
       "      <td>3640</td>\n",
       "      <td>Los Angeles</td>\n",
       "      <td>90247</td>\n",
       "      <td>Los Angeles</td>\n",
       "      <td>-118.286709</td>\n",
       "      <td>33.877139</td>\n",
       "      <td>77.25</td>\n",
       "      <td>95-100% (highest scores)</td>\n",
       "      <td>0.041</td>\n",
       "      <td>...</td>\n",
       "      <td>99.86</td>\n",
       "      <td>12.77</td>\n",
       "      <td>73.16</td>\n",
       "      <td>14.07</td>\n",
       "      <td>69.34</td>\n",
       "      <td>3.98</td>\n",
       "      <td>8.43</td>\n",
       "      <td>0.0</td>\n",
       "      <td>16.32</td>\n",
       "      <td>1.92</td>\n",
       "    </tr>\n",
       "  </tbody>\n",
       "</table>\n",
       "<p>5 rows × 67 columns</p>\n",
       "</div>"
      ],
      "text/plain": [
       "   Census Tract  Total Population California County    ZIP  \\\n",
       "0    6037204920              2751       Los Angeles  90023   \n",
       "1    6037542402              3306       Los Angeles  90221   \n",
       "2    6037543202              5124       Los Angeles  90220   \n",
       "3    6037203300              2000       Los Angeles  90033   \n",
       "4    6037291220              3640       Los Angeles  90247   \n",
       "\n",
       "  Approximate Location   Longitude   Latitude  CES 4.0 Score  \\\n",
       "0          Los Angeles -118.197497  34.017500          82.39   \n",
       "1              Compton -118.212413  33.881969          80.71   \n",
       "2              Compton -118.230032  33.879862          79.29   \n",
       "3          Los Angeles -118.207788  34.058872          77.35   \n",
       "4          Los Angeles -118.286709  33.877139          77.25   \n",
       "\n",
       "   CES 4.0 Percentile Range  Ozone  ...  CES 4.0 Percentile  \\\n",
       "0  95-100% (highest scores)  0.048  ...               99.97   \n",
       "1  95-100% (highest scores)  0.043  ...               99.94   \n",
       "2  95-100% (highest scores)  0.042  ...               99.91   \n",
       "3  95-100% (highest scores)  0.049  ...               99.87   \n",
       "4  95-100% (highest scores)  0.041  ...               99.86   \n",
       "\n",
       "   Children < 10 years (%)  Pop 10-64 years (%)  Elderly > 64 years (%)  \\\n",
       "0                    13.34                72.59                   14.07   \n",
       "1                    11.34                77.53                   11.13   \n",
       "2                    18.60                72.48                    8.92   \n",
       "3                     7.70                84.50                    7.80   \n",
       "4                    12.77                73.16                   14.07   \n",
       "\n",
       "   Hispanic (%)  White (%)  African American (%)  Native American (%)  \\\n",
       "0         97.27       1.71                  0.84                  0.0   \n",
       "1         65.34       0.54                 33.55                  0.0   \n",
       "2         78.14       1.09                 15.67                  0.0   \n",
       "3         75.55       2.85                 10.45                  0.0   \n",
       "4         69.34       3.98                  8.43                  0.0   \n",
       "\n",
       "   Asian American (%)  Other/Multiple (%)  \n",
       "0                0.00                0.18  \n",
       "1                0.57                0.00  \n",
       "2                4.84                0.25  \n",
       "3                6.95                4.20  \n",
       "4               16.32                1.92  \n",
       "\n",
       "[5 rows x 67 columns]"
      ]
     },
     "execution_count": 20,
     "metadata": {},
     "output_type": "execute_result"
    }
   ],
   "source": [
    "df.head()"
   ]
  },
  {
   "cell_type": "code",
   "execution_count": 21,
   "id": "375efa53",
   "metadata": {},
   "outputs": [
    {
     "data": {
      "text/plain": [
       "(2097, 67)"
      ]
     },
     "execution_count": 21,
     "metadata": {},
     "output_type": "execute_result"
    }
   ],
   "source": [
    "df.shape"
   ]
  },
  {
   "cell_type": "markdown",
   "id": "d19420cb",
   "metadata": {},
   "source": [
    "Note: by subsetting into just LA County from the original CAlEPA dataset, the CES 4.0 percentiles adjustments need to be accounted for. The percentiles are relative to California, not LA County."
   ]
  },
  {
   "cell_type": "markdown",
   "id": "bb1899a0",
   "metadata": {},
   "source": [
    "Here's all of the available features:"
   ]
  },
  {
   "cell_type": "code",
   "execution_count": 22,
   "id": "4e7f2a3e",
   "metadata": {
    "scrolled": true
   },
   "outputs": [
    {
     "name": "stdout",
     "output_type": "stream",
     "text": [
      "['Census Tract', 'Total Population', 'California County', 'ZIP', 'Approximate Location', 'Longitude', 'Latitude', 'CES 4.0 Score', 'CES 4.0 Percentile Range', 'Ozone', 'Ozone Pctl', 'PM2.5', 'PM2.5 Pctl', 'Diesel PM', 'Diesel PM Pctl', 'Drinking Water', 'Drinking Water Pctl', 'Lead', 'Lead Pctl', 'Pesticides', 'Pesticides Pctl', 'Tox. Release', 'Tox. Release Pctl', 'Traffic', 'Traffic Pctl', 'Cleanup Sites', 'Cleanup Sites Pctl', 'Groundwater Threats', 'Groundwater Threats Pctl', 'Haz. Waste', 'Haz. Waste Pctl', 'Imp. Water Bodies', 'Imp. Water Bodies Pctl', 'Solid Waste', 'Solid Waste Pctl', 'Pollution Burden', 'Pollution Burden Score', 'Pollution Burden Pctl', 'Asthma', 'Asthma Pctl', 'Low Birth Weight', 'Low Birth Weight Pctl', 'Cardiovascular Disease', 'Cardiovascular Disease Pctl', 'Education', 'Education Pctl', 'Linguistic Isolation', 'Linguistic Isolation Pctl', 'Poverty', 'Poverty Pctl', 'Unemployment', 'Unemployment Pctl', 'Housing Burden', 'Housing Burden Pctl', 'Pop. Char. ', 'Pop. Char. Score', 'Pop. Char. Pctl', 'CES 4.0 Percentile', 'Children < 10 years (%)', 'Pop 10-64 years (%)', 'Elderly > 64 years (%)', 'Hispanic (%)', 'White (%)', 'African American (%)', 'Native American (%)', 'Asian American (%)', 'Other/Multiple (%)']\n"
     ]
    }
   ],
   "source": [
    "print(list(df.columns))"
   ]
  },
  {
   "cell_type": "markdown",
   "id": "e5ddc7e7",
   "metadata": {},
   "source": [
    "Now let's look at the unique approximate locations:"
   ]
  },
  {
   "cell_type": "code",
   "execution_count": 23,
   "id": "1177e11a",
   "metadata": {
    "scrolled": true
   },
   "outputs": [
    {
     "name": "stdout",
     "output_type": "stream",
     "text": [
      "['Los Angeles', 'Compton', 'South El Monte', 'El Monte', 'South Gate', 'Long Beach', 'Commerce', 'Bell Gardens', 'Bell', 'Cudahy', 'Huntington Park', 'Glendale', 'Gardena', 'Lynwood', 'Baldwin Park', 'Pomona', 'Inglewood', 'Paramount', 'Maywood', 'Montebello', 'Industry', 'Azusa', 'Hawthorne', 'Carson', 'Santa Fe Springs', 'Pico Rivera', 'La Puente', 'Norwalk', 'Burbank', 'Hawaiian Gardens', 'Bellflower', 'Rosemead', 'San Fernando', 'Downey', 'Whittier', 'Monterey Park', 'Lancaster', 'Lawndale', 'San Gabriel', 'Santa Monica', 'Irwindale', 'Alhambra', 'West Covina', 'Covina', 'Culver City', 'Lakewood', 'Palmdale', 'Signal Hill', 'Duarte', 'Monrovia', 'La Mirada', 'Pasadena', 'Artesia', 'Santa Clarita', 'La Verne', 'Temple City', 'West Hollywood', 'Cerritos', 'Claremont', 'Torrance', 'Glendora', 'Lomita', 'San Dimas', 'El Segundo', 'Beverly Hills', 'Diamond Bar', 'Walnut', 'Calabasas', 'Arcadia', 'Redondo Beach', 'South Pasadena', 'Agoura Hills', 'Avalon', 'Rancho Palos Verdes', 'Hidden Hills', 'La Habra Heights', 'Manhattan Beach', 'Rolling Hills Estates', 'Sierra Madre', 'Hermosa Beach', 'Bradbury', 'Westlake Village', 'San Marino', 'Palos Verdes Estates', 'Rolling Hills', 'Malibu', 'Vernon']\n"
     ]
    }
   ],
   "source": [
    "print(list(df['Approximate Location'].unique()))"
   ]
  },
  {
   "cell_type": "markdown",
   "id": "84d06223",
   "metadata": {},
   "source": [
    "### Distribution of CES 4.0 Scores"
   ]
  },
  {
   "cell_type": "markdown",
   "id": "dcc4d216",
   "metadata": {},
   "source": [
    "*Describe CES 4.0 Score from CalEPA definition + brief introduction*"
   ]
  },
  {
   "cell_type": "code",
   "execution_count": 62,
   "id": "1bbed4c7",
   "metadata": {
    "scrolled": true
   },
   "outputs": [
    {
     "data": {
      "text/plain": [
       "Text(0.5, 1.0, 'CES 4.0 Score Distribution for LA County')"
      ]
     },
     "execution_count": 62,
     "metadata": {},
     "output_type": "execute_result"
    },
    {
     "data": {
      "image/png": "[encoded data removed]",
      "text/plain": [
       "<Figure size 432x288 with 1 Axes>"
      ]
     },
     "metadata": {},
     "output_type": "display_data"
    }
   ],
   "source": [
    "# Distribution of CES 4.0 Scores\n",
    "\n",
    "sns.histplot(data=df, x='CES 4.0 Score', stat='density', color='black', bins=np.arange(0, 100, 5))\n",
    "plt.title(\"CES 4.0 Score Distribution for LA County\")"
   ]
  },
  {
   "cell_type": "code",
   "execution_count": 80,
   "id": "7ff3eefc",
   "metadata": {},
   "outputs": [
    {
     "data": {
      "text/html": [
       "<div>\n",
       "<style scoped>\n",
       "    .dataframe tbody tr th:only-of-type {\n",
       "        vertical-align: middle;\n",
       "    }\n",
       "\n",
       "    .dataframe tbody tr th {\n",
       "        vertical-align: top;\n",
       "    }\n",
       "\n",
       "    .dataframe thead th {\n",
       "        text-align: right;\n",
       "    }\n",
       "</style>\n",
       "<table border=\"1\" class=\"dataframe\">\n",
       "  <thead>\n",
       "    <tr style=\"text-align: right;\">\n",
       "      <th></th>\n",
       "      <th>CES 4.0 Score</th>\n",
       "    </tr>\n",
       "  </thead>\n",
       "  <tbody>\n",
       "    <tr>\n",
       "      <th>count</th>\n",
       "      <td>2060.000000</td>\n",
       "    </tr>\n",
       "    <tr>\n",
       "      <th>mean</th>\n",
       "      <td>38.178044</td>\n",
       "    </tr>\n",
       "    <tr>\n",
       "      <th>std</th>\n",
       "      <td>16.714094</td>\n",
       "    </tr>\n",
       "    <tr>\n",
       "      <th>min</th>\n",
       "      <td>2.160000</td>\n",
       "    </tr>\n",
       "    <tr>\n",
       "      <th>25%</th>\n",
       "      <td>24.852500</td>\n",
       "    </tr>\n",
       "    <tr>\n",
       "      <th>50%</th>\n",
       "      <td>38.325000</td>\n",
       "    </tr>\n",
       "    <tr>\n",
       "      <th>75%</th>\n",
       "      <td>51.007500</td>\n",
       "    </tr>\n",
       "    <tr>\n",
       "      <th>max</th>\n",
       "      <td>82.390000</td>\n",
       "    </tr>\n",
       "  </tbody>\n",
       "</table>\n",
       "</div>"
      ],
      "text/plain": [
       "       CES 4.0 Score\n",
       "count    2060.000000\n",
       "mean       38.178044\n",
       "std        16.714094\n",
       "min         2.160000\n",
       "25%        24.852500\n",
       "50%        38.325000\n",
       "75%        51.007500\n",
       "max        82.390000"
      ]
     },
     "execution_count": 80,
     "metadata": {},
     "output_type": "execute_result"
    }
   ],
   "source": [
    "# Summary of CES 4.0 Scores\n",
    "\n",
    "df.describe()[['CES 4.0 Score']]"
   ]
  },
  {
   "cell_type": "code",
   "execution_count": 79,
   "id": "abef8aa0",
   "metadata": {
    "scrolled": false
   },
   "outputs": [
    {
     "data": {
      "text/plain": [
       "Text(0.5, 1.0, 'CES 4.0 Percentile Distribution for LA County (relative to California)')"
      ]
     },
     "execution_count": 79,
     "metadata": {},
     "output_type": "execute_result"
    },
    {
     "data": {
      "image/png": "[encoded data removed]",
      "text/plain": [
       "<Figure size 432x288 with 1 Axes>"
      ]
     },
     "metadata": {},
     "output_type": "display_data"
    }
   ],
   "source": [
    "# Distribution of CES 4.0 Score Percentiles (relative to California)\n",
    "\n",
    "sns.histplot(data=df, x='CES 4.0 Percentile', stat='density', color='black', bins=np.arange(0, 100, 5))\n",
    "plt.title(\"CES 4.0 Percentile Distribution for LA County (relative to California)\")"
   ]
  },
  {
   "cell_type": "code",
   "execution_count": 82,
   "id": "c61ce9f3",
   "metadata": {
    "scrolled": true
   },
   "outputs": [
    {
     "data": {
      "text/html": [
       "<div>\n",
       "<style scoped>\n",
       "    .dataframe tbody tr th:only-of-type {\n",
       "        vertical-align: middle;\n",
       "    }\n",
       "\n",
       "    .dataframe tbody tr th {\n",
       "        vertical-align: top;\n",
       "    }\n",
       "\n",
       "    .dataframe thead th {\n",
       "        text-align: right;\n",
       "    }\n",
       "</style>\n",
       "<table border=\"1\" class=\"dataframe\">\n",
       "  <thead>\n",
       "    <tr style=\"text-align: right;\">\n",
       "      <th></th>\n",
       "      <th>CES 4.0 Percentile</th>\n",
       "    </tr>\n",
       "  </thead>\n",
       "  <tbody>\n",
       "    <tr>\n",
       "      <th>count</th>\n",
       "      <td>2060.000000</td>\n",
       "    </tr>\n",
       "    <tr>\n",
       "      <th>mean</th>\n",
       "      <td>66.705146</td>\n",
       "    </tr>\n",
       "    <tr>\n",
       "      <th>std</th>\n",
       "      <td>25.800615</td>\n",
       "    </tr>\n",
       "    <tr>\n",
       "      <th>min</th>\n",
       "      <td>0.290000</td>\n",
       "    </tr>\n",
       "    <tr>\n",
       "      <th>25%</th>\n",
       "      <td>48.407500</td>\n",
       "    </tr>\n",
       "    <tr>\n",
       "      <th>50%</th>\n",
       "      <td>72.660000</td>\n",
       "    </tr>\n",
       "    <tr>\n",
       "      <th>75%</th>\n",
       "      <td>88.872500</td>\n",
       "    </tr>\n",
       "    <tr>\n",
       "      <th>max</th>\n",
       "      <td>99.970000</td>\n",
       "    </tr>\n",
       "  </tbody>\n",
       "</table>\n",
       "</div>"
      ],
      "text/plain": [
       "       CES 4.0 Percentile\n",
       "count         2060.000000\n",
       "mean            66.705146\n",
       "std             25.800615\n",
       "min              0.290000\n",
       "25%             48.407500\n",
       "50%             72.660000\n",
       "75%             88.872500\n",
       "max             99.970000"
      ]
     },
     "execution_count": 82,
     "metadata": {},
     "output_type": "execute_result"
    }
   ],
   "source": [
    "# Summary of CES 4.0 Percentiles\n",
    "\n",
    "df.describe()[['CES 4.0 Percentile']]"
   ]
  },
  {
   "cell_type": "markdown",
   "id": "f8b43a98",
   "metadata": {},
   "source": [
    "Just within LA County, the distributions show us that LA County has some of the lowest CES 4.0 Scores as well as some of the highest."
   ]
  },
  {
   "cell_type": "code",
   "execution_count": 70,
   "id": "4cddcda2",
   "metadata": {
    "scrolled": true
   },
   "outputs": [
    {
     "data": {
      "text/html": [
       "<div>\n",
       "<style scoped>\n",
       "    .dataframe tbody tr th:only-of-type {\n",
       "        vertical-align: middle;\n",
       "    }\n",
       "\n",
       "    .dataframe tbody tr th {\n",
       "        vertical-align: top;\n",
       "    }\n",
       "\n",
       "    .dataframe thead th {\n",
       "        text-align: right;\n",
       "    }\n",
       "</style>\n",
       "<table border=\"1\" class=\"dataframe\">\n",
       "  <thead>\n",
       "    <tr style=\"text-align: right;\">\n",
       "      <th></th>\n",
       "      <th>CES 4.0 Score</th>\n",
       "    </tr>\n",
       "    <tr>\n",
       "      <th>Approximate Location</th>\n",
       "      <th></th>\n",
       "    </tr>\n",
       "  </thead>\n",
       "  <tbody>\n",
       "    <tr>\n",
       "      <th>Commerce</th>\n",
       "      <td>68.520000</td>\n",
       "    </tr>\n",
       "    <tr>\n",
       "      <th>South El Monte</th>\n",
       "      <td>67.106000</td>\n",
       "    </tr>\n",
       "    <tr>\n",
       "      <th>Bell Gardens</th>\n",
       "      <td>63.267778</td>\n",
       "    </tr>\n",
       "    <tr>\n",
       "      <th>Compton</th>\n",
       "      <td>62.094783</td>\n",
       "    </tr>\n",
       "    <tr>\n",
       "      <th>Cudahy</th>\n",
       "      <td>60.566667</td>\n",
       "    </tr>\n",
       "    <tr>\n",
       "      <th>...</th>\n",
       "      <td>...</td>\n",
       "    </tr>\n",
       "    <tr>\n",
       "      <th>Manhattan Beach</th>\n",
       "      <td>7.008750</td>\n",
       "    </tr>\n",
       "    <tr>\n",
       "      <th>Palos Verdes Estates</th>\n",
       "      <td>6.856667</td>\n",
       "    </tr>\n",
       "    <tr>\n",
       "      <th>Rolling Hills Estates</th>\n",
       "      <td>6.630000</td>\n",
       "    </tr>\n",
       "    <tr>\n",
       "      <th>Rolling Hills</th>\n",
       "      <td>4.910000</td>\n",
       "    </tr>\n",
       "    <tr>\n",
       "      <th>Malibu</th>\n",
       "      <td>4.360000</td>\n",
       "    </tr>\n",
       "  </tbody>\n",
       "</table>\n",
       "<p>86 rows × 1 columns</p>\n",
       "</div>"
      ],
      "text/plain": [
       "                       CES 4.0 Score\n",
       "Approximate Location                \n",
       "Commerce                   68.520000\n",
       "South El Monte             67.106000\n",
       "Bell Gardens               63.267778\n",
       "Compton                    62.094783\n",
       "Cudahy                     60.566667\n",
       "...                              ...\n",
       "Manhattan Beach             7.008750\n",
       "Palos Verdes Estates        6.856667\n",
       "Rolling Hills Estates       6.630000\n",
       "Rolling Hills               4.910000\n",
       "Malibu                      4.360000\n",
       "\n",
       "[86 rows x 1 columns]"
      ]
     },
     "execution_count": 70,
     "metadata": {},
     "output_type": "execute_result"
    }
   ],
   "source": [
    "# CES 4.0 Score averages by city\n",
    "\n",
    "ces_avg_by_city = df[['Approximate Location', 'CES 4.0 Score']].groupby(by='Approximate Location').mean().dropna().sort_values(by='CES 4.0 Score', ascending=False)\n",
    "ces_avg_by_city"
   ]
  },
  {
   "cell_type": "code",
   "execution_count": 83,
   "id": "db67c66f",
   "metadata": {},
   "outputs": [],
   "source": [
    "# Map of CES 4.0 Scores by hue\n"
   ]
  },
  {
   "cell_type": "markdown",
   "id": "a9054ab8",
   "metadata": {},
   "source": [
    "### Relationship of CES 4.0 Scores to Population Characteristics"
   ]
  },
  {
   "cell_type": "markdown",
   "id": "5fdf0532",
   "metadata": {},
   "source": [
    "*CES 4.0 with consideration to Race and Ethnicity*"
   ]
  },
  {
   "cell_type": "code",
   "execution_count": 89,
   "id": "a3ea1579",
   "metadata": {
    "scrolled": true
   },
   "outputs": [
    {
     "data": {
      "text/html": [
       "<div>\n",
       "<style scoped>\n",
       "    .dataframe tbody tr th:only-of-type {\n",
       "        vertical-align: middle;\n",
       "    }\n",
       "\n",
       "    .dataframe tbody tr th {\n",
       "        vertical-align: top;\n",
       "    }\n",
       "\n",
       "    .dataframe thead th {\n",
       "        text-align: right;\n",
       "    }\n",
       "</style>\n",
       "<table border=\"1\" class=\"dataframe\">\n",
       "  <thead>\n",
       "    <tr style=\"text-align: right;\">\n",
       "      <th></th>\n",
       "      <th>Census Tract</th>\n",
       "      <th>Longitude</th>\n",
       "      <th>Latitude</th>\n",
       "      <th>CES 4.0 Score</th>\n",
       "      <th>Hispanic (%)</th>\n",
       "      <th>White (%)</th>\n",
       "      <th>African American (%)</th>\n",
       "      <th>Native American (%)</th>\n",
       "      <th>Asian American (%)</th>\n",
       "      <th>Other/Multiple (%)</th>\n",
       "    </tr>\n",
       "  </thead>\n",
       "  <tbody>\n",
       "    <tr>\n",
       "      <th>0</th>\n",
       "      <td>6037204920</td>\n",
       "      <td>-118.197497</td>\n",
       "      <td>34.017500</td>\n",
       "      <td>82.39</td>\n",
       "      <td>97.27</td>\n",
       "      <td>1.71</td>\n",
       "      <td>0.84</td>\n",
       "      <td>0.00</td>\n",
       "      <td>0.00</td>\n",
       "      <td>0.18</td>\n",
       "    </tr>\n",
       "    <tr>\n",
       "      <th>1</th>\n",
       "      <td>6037542402</td>\n",
       "      <td>-118.212413</td>\n",
       "      <td>33.881969</td>\n",
       "      <td>80.71</td>\n",
       "      <td>65.34</td>\n",
       "      <td>0.54</td>\n",
       "      <td>33.55</td>\n",
       "      <td>0.00</td>\n",
       "      <td>0.57</td>\n",
       "      <td>0.00</td>\n",
       "    </tr>\n",
       "    <tr>\n",
       "      <th>2</th>\n",
       "      <td>6037543202</td>\n",
       "      <td>-118.230032</td>\n",
       "      <td>33.879862</td>\n",
       "      <td>79.29</td>\n",
       "      <td>78.14</td>\n",
       "      <td>1.09</td>\n",
       "      <td>15.67</td>\n",
       "      <td>0.00</td>\n",
       "      <td>4.84</td>\n",
       "      <td>0.25</td>\n",
       "    </tr>\n",
       "    <tr>\n",
       "      <th>3</th>\n",
       "      <td>6037203300</td>\n",
       "      <td>-118.207788</td>\n",
       "      <td>34.058872</td>\n",
       "      <td>77.35</td>\n",
       "      <td>75.55</td>\n",
       "      <td>2.85</td>\n",
       "      <td>10.45</td>\n",
       "      <td>0.00</td>\n",
       "      <td>6.95</td>\n",
       "      <td>4.20</td>\n",
       "    </tr>\n",
       "    <tr>\n",
       "      <th>4</th>\n",
       "      <td>6037291220</td>\n",
       "      <td>-118.286709</td>\n",
       "      <td>33.877139</td>\n",
       "      <td>77.25</td>\n",
       "      <td>69.34</td>\n",
       "      <td>3.98</td>\n",
       "      <td>8.43</td>\n",
       "      <td>0.00</td>\n",
       "      <td>16.32</td>\n",
       "      <td>1.92</td>\n",
       "    </tr>\n",
       "    <tr>\n",
       "      <th>...</th>\n",
       "      <td>...</td>\n",
       "      <td>...</td>\n",
       "      <td>...</td>\n",
       "      <td>...</td>\n",
       "      <td>...</td>\n",
       "      <td>...</td>\n",
       "      <td>...</td>\n",
       "      <td>...</td>\n",
       "      <td>...</td>\n",
       "      <td>...</td>\n",
       "    </tr>\n",
       "    <tr>\n",
       "      <th>2092</th>\n",
       "      <td>6037980026</td>\n",
       "      <td>-118.263309</td>\n",
       "      <td>34.273483</td>\n",
       "      <td>NaN</td>\n",
       "      <td>26.92</td>\n",
       "      <td>26.92</td>\n",
       "      <td>42.31</td>\n",
       "      <td>0.00</td>\n",
       "      <td>0.00</td>\n",
       "      <td>3.85</td>\n",
       "    </tr>\n",
       "    <tr>\n",
       "      <th>2093</th>\n",
       "      <td>6037980028</td>\n",
       "      <td>-118.417488</td>\n",
       "      <td>33.942108</td>\n",
       "      <td>NaN</td>\n",
       "      <td>NaN</td>\n",
       "      <td>NaN</td>\n",
       "      <td>NaN</td>\n",
       "      <td>NaN</td>\n",
       "      <td>NaN</td>\n",
       "      <td>NaN</td>\n",
       "    </tr>\n",
       "    <tr>\n",
       "      <th>2094</th>\n",
       "      <td>6037980030</td>\n",
       "      <td>-118.409478</td>\n",
       "      <td>33.909624</td>\n",
       "      <td>NaN</td>\n",
       "      <td>NaN</td>\n",
       "      <td>NaN</td>\n",
       "      <td>NaN</td>\n",
       "      <td>NaN</td>\n",
       "      <td>NaN</td>\n",
       "      <td>NaN</td>\n",
       "    </tr>\n",
       "    <tr>\n",
       "      <th>2095</th>\n",
       "      <td>6037980031</td>\n",
       "      <td>-118.262727</td>\n",
       "      <td>33.733835</td>\n",
       "      <td>NaN</td>\n",
       "      <td>32.94</td>\n",
       "      <td>33.45</td>\n",
       "      <td>19.74</td>\n",
       "      <td>2.21</td>\n",
       "      <td>5.10</td>\n",
       "      <td>6.55</td>\n",
       "    </tr>\n",
       "    <tr>\n",
       "      <th>2096</th>\n",
       "      <td>6037980033</td>\n",
       "      <td>-118.220310</td>\n",
       "      <td>33.744315</td>\n",
       "      <td>NaN</td>\n",
       "      <td>0.00</td>\n",
       "      <td>0.00</td>\n",
       "      <td>0.00</td>\n",
       "      <td>100.00</td>\n",
       "      <td>0.00</td>\n",
       "      <td>0.00</td>\n",
       "    </tr>\n",
       "  </tbody>\n",
       "</table>\n",
       "<p>2097 rows × 10 columns</p>\n",
       "</div>"
      ],
      "text/plain": [
       "      Census Tract   Longitude   Latitude  CES 4.0 Score  Hispanic (%)  \\\n",
       "0       6037204920 -118.197497  34.017500          82.39         97.27   \n",
       "1       6037542402 -118.212413  33.881969          80.71         65.34   \n",
       "2       6037543202 -118.230032  33.879862          79.29         78.14   \n",
       "3       6037203300 -118.207788  34.058872          77.35         75.55   \n",
       "4       6037291220 -118.286709  33.877139          77.25         69.34   \n",
       "...            ...         ...        ...            ...           ...   \n",
       "2092    6037980026 -118.263309  34.273483            NaN         26.92   \n",
       "2093    6037980028 -118.417488  33.942108            NaN           NaN   \n",
       "2094    6037980030 -118.409478  33.909624            NaN           NaN   \n",
       "2095    6037980031 -118.262727  33.733835            NaN         32.94   \n",
       "2096    6037980033 -118.220310  33.744315            NaN          0.00   \n",
       "\n",
       "      White (%)  African American (%)  Native American (%)  \\\n",
       "0          1.71                  0.84                 0.00   \n",
       "1          0.54                 33.55                 0.00   \n",
       "2          1.09                 15.67                 0.00   \n",
       "3          2.85                 10.45                 0.00   \n",
       "4          3.98                  8.43                 0.00   \n",
       "...         ...                   ...                  ...   \n",
       "2092      26.92                 42.31                 0.00   \n",
       "2093        NaN                   NaN                  NaN   \n",
       "2094        NaN                   NaN                  NaN   \n",
       "2095      33.45                 19.74                 2.21   \n",
       "2096       0.00                  0.00               100.00   \n",
       "\n",
       "      Asian American (%)  Other/Multiple (%)  \n",
       "0                   0.00                0.18  \n",
       "1                   0.57                0.00  \n",
       "2                   4.84                0.25  \n",
       "3                   6.95                4.20  \n",
       "4                  16.32                1.92  \n",
       "...                  ...                 ...  \n",
       "2092                0.00                3.85  \n",
       "2093                 NaN                 NaN  \n",
       "2094                 NaN                 NaN  \n",
       "2095                5.10                6.55  \n",
       "2096                0.00                0.00  \n",
       "\n",
       "[2097 rows x 10 columns]"
      ]
     },
     "execution_count": 89,
     "metadata": {},
     "output_type": "execute_result"
    }
   ],
   "source": [
    "df_pop = df[['Census Tract', 'Longitude', 'Latitude','CES 4.0 Score', 'Hispanic (%)', 'White (%)', 'African American (%)', 'Native American (%)', 'Asian American (%)', 'Other/Multiple (%)']]\n",
    "df_pop"
   ]
  },
  {
   "cell_type": "markdown",
   "id": "09a8887b",
   "metadata": {},
   "source": [
    "Let's take a look at the correlation between CES 4.0 Score and each of the race/ethnicity categories provided by the CalEPA. With visualizations, we can continue to make more sense of it. For now, we will drop null values."
   ]
  },
  {
   "cell_type": "code",
   "execution_count": 90,
   "id": "f07dfffb",
   "metadata": {
    "scrolled": false
   },
   "outputs": [
    {
     "data": {
      "text/plain": [
       "CES 4.0 Score           1.000000\n",
       "Hispanic (%)            0.728616\n",
       "White (%)              -0.712795\n",
       "African American (%)    0.197267\n",
       "Native American (%)    -0.026868\n",
       "Asian American (%)     -0.249784\n",
       "Other/Multiple (%)     -0.486382\n",
       "Name: CES 4.0 Score, dtype: float64"
      ]
     },
     "execution_count": 90,
     "metadata": {},
     "output_type": "execute_result"
    }
   ],
   "source": [
    "correlations = df_pop.iloc[:, 3:].corr()['CES 4.0 Score']\n",
    "correlations"
   ]
  },
  {
   "cell_type": "code",
   "execution_count": 93,
   "id": "dec703c8",
   "metadata": {},
   "outputs": [],
   "source": [
    "df_pop_corr = df_pop.iloc[:, 3:].dropna()"
   ]
  },
  {
   "cell_type": "code",
   "execution_count": 99,
   "id": "2952cc60",
   "metadata": {},
   "outputs": [
    {
     "data": {
      "image/png": "[encoded data removed]",
      "text/plain": [
       "<Figure size 576x576 with 6 Axes>"
      ]
     },
     "metadata": {},
     "output_type": "display_data"
    }
   ],
   "source": [
    "fig, ax = plt.subplots(6,1,figsize=(8,8))\n",
    "\n",
    "for col in df_pop_corr.columns[1:]:\n",
    "    sns.scatterplot(data=df_pop_corr, x=col, y='CES 4.0 Score')"
   ]
  },
  {
   "cell_type": "code",
   "execution_count": null,
   "id": "0e247cd3",
   "metadata": {},
   "outputs": [],
   "source": []
  },
  {
   "cell_type": "markdown",
   "id": "b4234351",
   "metadata": {},
   "source": [
    "## NASA SoCAB Land Cover"
   ]
  },
  {
   "cell_type": "code",
   "execution_count": null,
   "id": "32825dfa",
   "metadata": {},
   "outputs": [],
   "source": []
  },
  {
   "cell_type": "code",
   "execution_count": null,
   "id": "20995be9",
   "metadata": {},
   "outputs": [],
   "source": []
  },
  {
   "cell_type": "code",
   "execution_count": null,
   "id": "850e7aca",
   "metadata": {},
   "outputs": [],
   "source": []
  }
 ],
 "metadata": {
  "kernelspec": {
   "display_name": "Python 3 (ipykernel)",
   "language": "python",
   "name": "python3"
  },
  "language_info": {
   "codemirror_mode": {
    "name": "ipython",
    "version": 3
   },
   "file_extension": ".py",
   "mimetype": "text/x-python",
   "name": "python",
   "nbconvert_exporter": "python",
   "pygments_lexer": "ipython3",
   "version": "3.9.7"
  }
 },
 "nbformat": 4,
 "nbformat_minor": 5
}
