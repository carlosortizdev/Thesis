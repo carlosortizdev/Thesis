{
 "cells": [
  {
   "cell_type": "markdown",
   "id": "20473866",
   "metadata": {},
   "source": [
    "# [Introduction] Spatial Contexts for Los Angeles"
   ]
  },
  {
   "cell_type": "markdown",
   "id": "cdbf139b",
   "metadata": {},
   "source": [
    "This notebook sets up a framework for modeling spatial contexts. \n",
    "\n",
    "There are three main ways in which spatial contexts play an important role in health: it contextualizes the built and social environment, environmental exposure, and access to health services for communities. I will draw predictions and inference across each of these components through a lens of land cover."
   ]
  },
  {
   "cell_type": "markdown",
   "id": "7584d014",
   "metadata": {},
   "source": [
    "<div class=\"alert alert-success\" role=\"alert\">\n",
    "    \n",
    "</div>"
   ]
  },
  {
   "cell_type": "markdown",
   "id": "6bb36ab0",
   "metadata": {},
   "source": [
    "<img src=\"../images/losangeles.png\" alt=\"Map of LA County, California\"/>"
   ]
  },
  {
   "cell_type": "markdown",
   "id": "fd61e11d",
   "metadata": {},
   "source": [
    "## CalEPA Data"
   ]
  },
  {
   "cell_type": "markdown",
   "id": "9dda4598",
   "metadata": {},
   "source": [
    "The following data was compiled from the California Environmental Protection Agency (CalEPA) Cal Enviro Screen (CES) indicator and demographic data, focusing on LA County, California."
   ]
  },
  {
   "cell_type": "code",
   "execution_count": 1,
   "id": "c805f1e0",
   "metadata": {},
   "outputs": [],
   "source": [
    "import pandas as pd\n",
    "import numpy as np\n",
    "import seaborn as sns\n",
    "import matplotlib.pyplot as plt\n",
    "\n",
    "%matplotlib inline"
   ]
  },
  {
   "cell_type": "code",
   "execution_count": 2,
   "id": "1c4a268f",
   "metadata": {},
   "outputs": [],
   "source": [
    "df = pd.read_csv(\"../data/CalEPA/ces_losangeles.csv\", index_col=0)"
   ]
  },
  {
   "cell_type": "code",
   "execution_count": 3,
   "id": "6393e20c",
   "metadata": {
    "scrolled": true
   },
   "outputs": [
    {
     "data": {
      "text/html": [
       "<div>\n",
       "<style scoped>\n",
       "    .dataframe tbody tr th:only-of-type {\n",
       "        vertical-align: middle;\n",
       "    }\n",
       "\n",
       "    .dataframe tbody tr th {\n",
       "        vertical-align: top;\n",
       "    }\n",
       "\n",
       "    .dataframe thead th {\n",
       "        text-align: right;\n",
       "    }\n",
       "</style>\n",
       "<table border=\"1\" class=\"dataframe\">\n",
       "  <thead>\n",
       "    <tr style=\"text-align: right;\">\n",
       "      <th></th>\n",
       "      <th>Census Tract</th>\n",
       "      <th>Total Population</th>\n",
       "      <th>California County</th>\n",
       "      <th>ZIP</th>\n",
       "      <th>Approximate Location</th>\n",
       "      <th>Longitude</th>\n",
       "      <th>Latitude</th>\n",
       "      <th>CES 4.0 Score</th>\n",
       "      <th>CES 4.0 Percentile Range</th>\n",
       "      <th>Ozone</th>\n",
       "      <th>...</th>\n",
       "      <th>CES 4.0 Percentile</th>\n",
       "      <th>Children &lt; 10 years (%)</th>\n",
       "      <th>Pop 10-64 years (%)</th>\n",
       "      <th>Elderly &gt; 64 years (%)</th>\n",
       "      <th>Hispanic (%)</th>\n",
       "      <th>White (%)</th>\n",
       "      <th>African American (%)</th>\n",
       "      <th>Native American (%)</th>\n",
       "      <th>Asian American (%)</th>\n",
       "      <th>Other/Multiple (%)</th>\n",
       "    </tr>\n",
       "  </thead>\n",
       "  <tbody>\n",
       "    <tr>\n",
       "      <th>0</th>\n",
       "      <td>6037204920</td>\n",
       "      <td>2751</td>\n",
       "      <td>Los Angeles</td>\n",
       "      <td>90023</td>\n",
       "      <td>Los Angeles</td>\n",
       "      <td>-118.197497</td>\n",
       "      <td>34.017500</td>\n",
       "      <td>82.39</td>\n",
       "      <td>95-100% (highest scores)</td>\n",
       "      <td>0.048</td>\n",
       "      <td>...</td>\n",
       "      <td>99.97</td>\n",
       "      <td>13.34</td>\n",
       "      <td>72.59</td>\n",
       "      <td>14.07</td>\n",
       "      <td>97.27</td>\n",
       "      <td>1.71</td>\n",
       "      <td>0.84</td>\n",
       "      <td>0.0</td>\n",
       "      <td>0.00</td>\n",
       "      <td>0.18</td>\n",
       "    </tr>\n",
       "    <tr>\n",
       "      <th>1</th>\n",
       "      <td>6037542402</td>\n",
       "      <td>3306</td>\n",
       "      <td>Los Angeles</td>\n",
       "      <td>90221</td>\n",
       "      <td>Compton</td>\n",
       "      <td>-118.212413</td>\n",
       "      <td>33.881969</td>\n",
       "      <td>80.71</td>\n",
       "      <td>95-100% (highest scores)</td>\n",
       "      <td>0.043</td>\n",
       "      <td>...</td>\n",
       "      <td>99.94</td>\n",
       "      <td>11.34</td>\n",
       "      <td>77.53</td>\n",
       "      <td>11.13</td>\n",
       "      <td>65.34</td>\n",
       "      <td>0.54</td>\n",
       "      <td>33.55</td>\n",
       "      <td>0.0</td>\n",
       "      <td>0.57</td>\n",
       "      <td>0.00</td>\n",
       "    </tr>\n",
       "    <tr>\n",
       "      <th>2</th>\n",
       "      <td>6037543202</td>\n",
       "      <td>5124</td>\n",
       "      <td>Los Angeles</td>\n",
       "      <td>90220</td>\n",
       "      <td>Compton</td>\n",
       "      <td>-118.230032</td>\n",
       "      <td>33.879862</td>\n",
       "      <td>79.29</td>\n",
       "      <td>95-100% (highest scores)</td>\n",
       "      <td>0.042</td>\n",
       "      <td>...</td>\n",
       "      <td>99.91</td>\n",
       "      <td>18.60</td>\n",
       "      <td>72.48</td>\n",
       "      <td>8.92</td>\n",
       "      <td>78.14</td>\n",
       "      <td>1.09</td>\n",
       "      <td>15.67</td>\n",
       "      <td>0.0</td>\n",
       "      <td>4.84</td>\n",
       "      <td>0.25</td>\n",
       "    </tr>\n",
       "    <tr>\n",
       "      <th>3</th>\n",
       "      <td>6037203300</td>\n",
       "      <td>2000</td>\n",
       "      <td>Los Angeles</td>\n",
       "      <td>90033</td>\n",
       "      <td>Los Angeles</td>\n",
       "      <td>-118.207788</td>\n",
       "      <td>34.058872</td>\n",
       "      <td>77.35</td>\n",
       "      <td>95-100% (highest scores)</td>\n",
       "      <td>0.049</td>\n",
       "      <td>...</td>\n",
       "      <td>99.87</td>\n",
       "      <td>7.70</td>\n",
       "      <td>84.50</td>\n",
       "      <td>7.80</td>\n",
       "      <td>75.55</td>\n",
       "      <td>2.85</td>\n",
       "      <td>10.45</td>\n",
       "      <td>0.0</td>\n",
       "      <td>6.95</td>\n",
       "      <td>4.20</td>\n",
       "    </tr>\n",
       "    <tr>\n",
       "      <th>4</th>\n",
       "      <td>6037291220</td>\n",
       "      <td>3640</td>\n",
       "      <td>Los Angeles</td>\n",
       "      <td>90247</td>\n",
       "      <td>Los Angeles</td>\n",
       "      <td>-118.286709</td>\n",
       "      <td>33.877139</td>\n",
       "      <td>77.25</td>\n",
       "      <td>95-100% (highest scores)</td>\n",
       "      <td>0.041</td>\n",
       "      <td>...</td>\n",
       "      <td>99.86</td>\n",
       "      <td>12.77</td>\n",
       "      <td>73.16</td>\n",
       "      <td>14.07</td>\n",
       "      <td>69.34</td>\n",
       "      <td>3.98</td>\n",
       "      <td>8.43</td>\n",
       "      <td>0.0</td>\n",
       "      <td>16.32</td>\n",
       "      <td>1.92</td>\n",
       "    </tr>\n",
       "  </tbody>\n",
       "</table>\n",
       "<p>5 rows × 67 columns</p>\n",
       "</div>"
      ],
      "text/plain": [
       "   Census Tract  Total Population California County    ZIP  \\\n",
       "0    6037204920              2751       Los Angeles  90023   \n",
       "1    6037542402              3306       Los Angeles  90221   \n",
       "2    6037543202              5124       Los Angeles  90220   \n",
       "3    6037203300              2000       Los Angeles  90033   \n",
       "4    6037291220              3640       Los Angeles  90247   \n",
       "\n",
       "  Approximate Location   Longitude   Latitude  CES 4.0 Score  \\\n",
       "0          Los Angeles -118.197497  34.017500          82.39   \n",
       "1              Compton -118.212413  33.881969          80.71   \n",
       "2              Compton -118.230032  33.879862          79.29   \n",
       "3          Los Angeles -118.207788  34.058872          77.35   \n",
       "4          Los Angeles -118.286709  33.877139          77.25   \n",
       "\n",
       "   CES 4.0 Percentile Range  Ozone  ...  CES 4.0 Percentile  \\\n",
       "0  95-100% (highest scores)  0.048  ...               99.97   \n",
       "1  95-100% (highest scores)  0.043  ...               99.94   \n",
       "2  95-100% (highest scores)  0.042  ...               99.91   \n",
       "3  95-100% (highest scores)  0.049  ...               99.87   \n",
       "4  95-100% (highest scores)  0.041  ...               99.86   \n",
       "\n",
       "   Children < 10 years (%)  Pop 10-64 years (%)  Elderly > 64 years (%)  \\\n",
       "0                    13.34                72.59                   14.07   \n",
       "1                    11.34                77.53                   11.13   \n",
       "2                    18.60                72.48                    8.92   \n",
       "3                     7.70                84.50                    7.80   \n",
       "4                    12.77                73.16                   14.07   \n",
       "\n",
       "   Hispanic (%)  White (%)  African American (%)  Native American (%)  \\\n",
       "0         97.27       1.71                  0.84                  0.0   \n",
       "1         65.34       0.54                 33.55                  0.0   \n",
       "2         78.14       1.09                 15.67                  0.0   \n",
       "3         75.55       2.85                 10.45                  0.0   \n",
       "4         69.34       3.98                  8.43                  0.0   \n",
       "\n",
       "   Asian American (%)  Other/Multiple (%)  \n",
       "0                0.00                0.18  \n",
       "1                0.57                0.00  \n",
       "2                4.84                0.25  \n",
       "3                6.95                4.20  \n",
       "4               16.32                1.92  \n",
       "\n",
       "[5 rows x 67 columns]"
      ]
     },
     "execution_count": 3,
     "metadata": {},
     "output_type": "execute_result"
    }
   ],
   "source": [
    "df.head()"
   ]
  },
  {
   "cell_type": "markdown",
   "id": "bb1899a0",
   "metadata": {},
   "source": [
    "Here's all of the available features:"
   ]
  },
  {
   "cell_type": "code",
   "execution_count": 4,
   "id": "4e7f2a3e",
   "metadata": {
    "scrolled": true
   },
   "outputs": [
    {
     "name": "stdout",
     "output_type": "stream",
     "text": [
      "['Census Tract', 'Total Population', 'California County', 'ZIP', 'Approximate Location', 'Longitude', 'Latitude', 'CES 4.0 Score', 'CES 4.0 Percentile Range', 'Ozone', 'Ozone Pctl', 'PM2.5', 'PM2.5 Pctl', 'Diesel PM', 'Diesel PM Pctl', 'Drinking Water', 'Drinking Water Pctl', 'Lead', 'Lead Pctl', 'Pesticides', 'Pesticides Pctl', 'Tox. Release', 'Tox. Release Pctl', 'Traffic', 'Traffic Pctl', 'Cleanup Sites', 'Cleanup Sites Pctl', 'Groundwater Threats', 'Groundwater Threats Pctl', 'Haz. Waste', 'Haz. Waste Pctl', 'Imp. Water Bodies', 'Imp. Water Bodies Pctl', 'Solid Waste', 'Solid Waste Pctl', 'Pollution Burden', 'Pollution Burden Score', 'Pollution Burden Pctl', 'Asthma', 'Asthma Pctl', 'Low Birth Weight', 'Low Birth Weight Pctl', 'Cardiovascular Disease', 'Cardiovascular Disease Pctl', 'Education', 'Education Pctl', 'Linguistic Isolation', 'Linguistic Isolation Pctl', 'Poverty', 'Poverty Pctl', 'Unemployment', 'Unemployment Pctl', 'Housing Burden', 'Housing Burden Pctl', 'Pop. Char. ', 'Pop. Char. Score', 'Pop. Char. Pctl', 'CES 4.0 Percentile', 'Children < 10 years (%)', 'Pop 10-64 years (%)', 'Elderly > 64 years (%)', 'Hispanic (%)', 'White (%)', 'African American (%)', 'Native American (%)', 'Asian American (%)', 'Other/Multiple (%)']\n"
     ]
    }
   ],
   "source": [
    "print(list(df.columns))"
   ]
  },
  {
   "cell_type": "markdown",
   "id": "a233ab1a",
   "metadata": {},
   "source": [
    "### Exploratory Data Analysis"
   ]
  },
  {
   "cell_type": "code",
   "execution_count": null,
   "id": "1177e11a",
   "metadata": {},
   "outputs": [],
   "source": []
  },
  {
   "cell_type": "code",
   "execution_count": null,
   "id": "7d6be074",
   "metadata": {},
   "outputs": [],
   "source": []
  },
  {
   "cell_type": "code",
   "execution_count": null,
   "id": "4cddcda2",
   "metadata": {},
   "outputs": [],
   "source": []
  },
  {
   "cell_type": "code",
   "execution_count": null,
   "id": "d66d3bcd",
   "metadata": {},
   "outputs": [],
   "source": []
  },
  {
   "cell_type": "markdown",
   "id": "b4234351",
   "metadata": {},
   "source": [
    "## NASA SoCAB Land Cover"
   ]
  },
  {
   "cell_type": "code",
   "execution_count": null,
   "id": "32825dfa",
   "metadata": {},
   "outputs": [],
   "source": []
  }
 ],
 "metadata": {
  "kernelspec": {
   "display_name": "Python 3 (ipykernel)",
   "language": "python",
   "name": "python3"
  },
  "language_info": {
   "codemirror_mode": {
    "name": "ipython",
    "version": 3
   },
   "file_extension": ".py",
   "mimetype": "text/x-python",
   "name": "python",
   "nbconvert_exporter": "python",
   "pygments_lexer": "ipython3",
   "version": "3.9.7"
  }
 },
 "nbformat": 4,
 "nbformat_minor": 5
}
